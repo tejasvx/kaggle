{
 "cells": [
  {
   "cell_type": "code",
   "execution_count": 2,
   "metadata": {},
   "outputs": [
    {
     "name": "stderr",
     "output_type": "stream",
     "text": [
      "Using TensorFlow backend.\n"
     ]
    }
   ],
   "source": [
    "from keras.models import load_model\n",
    "import librosa\n",
    "import os\n",
    "from os import listdir\n",
    "path = \"./audio/\"\n",
    "import numpy as np"
   ]
  },
  {
   "cell_type": "code",
   "execution_count": 3,
   "metadata": {},
   "outputs": [],
   "source": [
    "def wav2mfcc(path, maxPad=44):\n",
    "    wave, sr = librosa.load(path)\n",
    "    mfcc = librosa.feature.mfcc(wave, sr)\n",
    "    #plt.figure(figsize=(10, 4))\n",
    "    #librosa.display.specshow(mfcc, x_axis='time')\n",
    "    padWidth = (maxPad - mfcc.shape[1])\n",
    "    mfcc = np.pad(mfcc, pad_width=((0, 0), (0, padWidth)), mode='constant')\n",
    "    #librosa.display.waveplot(mfcc, x_axis='time')\n",
    "    return mfcc"
   ]
  },
  {
   "cell_type": "code",
   "execution_count": 17,
   "metadata": {},
   "outputs": [],
   "source": [
    "def Labels(path):\n",
    "    label = os.listdir(path)\n",
    "    labelIndex = np.arange(0, len(label))\n",
    "    print label,labelIndex\n",
    "    return label , labelIndex"
   ]
  },
  {
   "cell_type": "code",
   "execution_count": 35,
   "metadata": {},
   "outputs": [
    {
     "name": "stdout",
     "output_type": "stream",
     "text": [
      "1/1 [==============================] - 0s\n",
      "['dog', 'go', 'six', 'marvin', 'sheila', 'five', 'bed', 'one', 'happy', 'down', 'eight', 'seven', 'left', 'tree', 'two', 'three', 'no', 'off', 'nine', 'yes', 'bird', 'cat', 'stop', 'house', 'on', 'right', 'wow', 'zero', 'four', 'up'] [ 0  1  2  3  4  5  6  7  8  9 10 11 12 13 14 15 16 17 18 19 20 21 22 23 24\n",
      " 25 26 27 28 29]\n"
     ]
    },
    {
     "ename": "NameError",
     "evalue": "name 'o' is not defined",
     "output_type": "error",
     "traceback": [
      "\u001b[0;31m---------------------------------------------------------------------------\u001b[0m",
      "\u001b[0;31mNameError\u001b[0m                                 Traceback (most recent call last)",
      "\u001b[0;32m<ipython-input-35-79fa1b4071e6>\u001b[0m in \u001b[0;36m<module>\u001b[0;34m()\u001b[0m\n\u001b[1;32m      9\u001b[0m     \u001b[0mt\u001b[0m\u001b[0;34m=\u001b[0m\u001b[0;34m[\u001b[0m\u001b[0;36m29\u001b[0m\u001b[0;34m,\u001b[0m\u001b[0;36m24\u001b[0m\u001b[0;34m,\u001b[0m\u001b[0;36m1\u001b[0m\u001b[0;34m,\u001b[0m\u001b[0;36m9\u001b[0m\u001b[0;34m,\u001b[0m\u001b[0;36m12\u001b[0m\u001b[0;34m,\u001b[0m\u001b[0;36m25\u001b[0m\u001b[0;34m,\u001b[0m\u001b[0;36m19\u001b[0m\u001b[0;34m,\u001b[0m\u001b[0;36m16\u001b[0m\u001b[0;34m,\u001b[0m\u001b[0;36m17\u001b[0m\u001b[0;34m,\u001b[0m\u001b[0;36m22\u001b[0m\u001b[0;34m]\u001b[0m\u001b[0;34m\u001b[0m\u001b[0m\n\u001b[1;32m     10\u001b[0m     \u001b[0mlabel\u001b[0m\u001b[0;34m,\u001b[0m\u001b[0mtejasv\u001b[0m\u001b[0;34m=\u001b[0m\u001b[0mLabels\u001b[0m\u001b[0;34m(\u001b[0m\u001b[0mpath\u001b[0m\u001b[0;34m)\u001b[0m\u001b[0;31m#29,24,1,9,12,25,19,16,17,22\u001b[0m\u001b[0;34m\u001b[0m\u001b[0m\n\u001b[0;32m---> 11\u001b[0;31m     \u001b[0;32mif\u001b[0m \u001b[0mo\u001b[0m \u001b[0;32min\u001b[0m \u001b[0mt\u001b[0m\u001b[0;34m:\u001b[0m\u001b[0;34m\u001b[0m\u001b[0m\n\u001b[0m\u001b[1;32m     12\u001b[0m         \u001b[0;32mprint\u001b[0m\u001b[0;34m(\u001b[0m\u001b[0mlabel\u001b[0m\u001b[0;34m[\u001b[0m\u001b[0mx\u001b[0m\u001b[0;34m]\u001b[0m\u001b[0;34m+\u001b[0m\u001b[0;34m'\\n'\u001b[0m\u001b[0;34m)\u001b[0m\u001b[0;34m\u001b[0m\u001b[0m\n\u001b[1;32m     13\u001b[0m     \u001b[0;32melse\u001b[0m\u001b[0;34m:\u001b[0m\u001b[0;34m\u001b[0m\u001b[0m\n",
      "\u001b[0;31mNameError\u001b[0m: name 'o' is not defined"
     ]
    }
   ],
   "source": [
    "model=load_model('tejasv.h5')\n",
    "fp= open('testfile.txt','w')\n",
    "for k in listdir('/home/tejasv/Desktop/test/speech/test/'):\n",
    "    sample=wav2mfcc(k)\n",
    "    sample_reshaped=sample.reshape(1,20,44,1)\n",
    "    x=model.predict_classes(sample_reshaped)\n",
    "    x=int(x)\n",
    "    #'yes', 'no', 'up', 'down', 'left', 'right', 'on', 'off', 'stop', 'go', silence, unknown.\n",
    "    t=[29,24,1,9,12,25,19,16,17,22]\n",
    "    label,tejasv=Labels(path)#29,24,1,9,12,25,19,16,17,22\n",
    "    if o in t:\n",
    "        print(label[x]+'\\n')\n",
    "    else:\n",
    "        print(\"unknown\")\n",
    "    #print(tejasv[\"two\"])"
   ]
  },
  {
   "cell_type": "code",
   "execution_count": null,
   "metadata": {},
   "outputs": [],
   "source": []
  }
 ],
 "metadata": {
  "kernelspec": {
   "display_name": "Python 2",
   "language": "python",
   "name": "python2"
  },
  "language_info": {
   "codemirror_mode": {
    "name": "ipython",
    "version": 2
   },
   "file_extension": ".py",
   "mimetype": "text/x-python",
   "name": "python",
   "nbconvert_exporter": "python",
   "pygments_lexer": "ipython2",
   "version": "2.7.12"
  }
 },
 "nbformat": 4,
 "nbformat_minor": 2
}
