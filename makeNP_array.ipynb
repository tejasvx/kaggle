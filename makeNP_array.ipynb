{
  "cells": [
    {
      "metadata": {
        "_cell_guid": "b038eb9b-7c0f-4042-b35d-fc982ed5d72d",
        "collapsed": true,
        "_uuid": "ea687150625325cff894c62617ab3e6b4fc38830",
        "trusted": false
      },
      "cell_type": "code",
      "source": "# This Python 3 environment comes with many helpful analytics libraries installed\n# It is defined by the kaggle/python docker image: https://github.com/kaggle/docker-python\n# For example, here's several helpful packages to load in \n\nimport numpy as np # linear algebra\nimport pandas as pd # data processing, CSV file I/O (e.g. pd.read_csv)\nimport librosa\nimport librosa.display\nimport os\nfrom sklearn.model_selection import train_test_split\nimport numpy as np\npath = \"../input/train/audio/\"\nimport matplotlib.pyplot as plt\n# Input data files are available in the \"../input/\" directory.\n# For example, running this (by clicking run or pressing Shift+Enter) will list the files in the input directory\n\n#from subprocess import check_output\n#print(check_output([\"ls\", \"../input/train/audio\"]).decode(\"utf8\"))\n\n# Any results you write to the current directory are saved as output.",
      "execution_count": null,
      "outputs": []
    },
    {
      "metadata": {
        "_cell_guid": "af6d1979-0296-4a3f-97ff-bb3bd3689e23",
        "collapsed": true,
        "_kg_hide-input": false,
        "_uuid": "b3405c3f084989dc6fef84bfd7021705786d3dcb",
        "_kg_hide-output": false,
        "trusted": false
      },
      "cell_type": "code",
      "source": "def Labels(path):\n    label = os.listdir(path)\n    labelIndex = np.arange(0, len(label))\n    print (label, labelIndex)\n    return label , labelIndex",
      "execution_count": null,
      "outputs": []
    },
    {
      "metadata": {
        "_cell_guid": "80bc24c4-01a3-4f36-861d-fde5d030cbc1",
        "collapsed": true,
        "_uuid": "008672eed82efa2971e6d3db3ddf89ff6ddf8284",
        "trusted": false
      },
      "cell_type": "code",
      "source": "def wav2mfcc(path, maxPad=44):\n    wave, sr = librosa.load(path)\n    mfcc = librosa.feature.mfcc(wave, sr)\n    #plt.figure(figsize=(10, 4))\n    #librosa.display.specshow(mfcc, x_axis='time')\n    padWidth = (maxPad - mfcc.shape[1])\n    mfcc = np.pad(mfcc, pad_width=((0, 0), (0, padWidth)), mode='constant')\n    librosa.display.waveplot(mfcc, x_axis='time')\n    return mfcc",
      "execution_count": null,
      "outputs": []
    },
    {
      "metadata": {
        "_cell_guid": "39907e56-534e-45f2-849e-a02472e1e540",
        "collapsed": true,
        "_uuid": "3105e0c7c966dcddeeda6ac27fd1572b7e48bfcf",
        "trusted": false
      },
      "cell_type": "code",
      "source": "def MakeNPArray(path, maxPad=44):\n    labels, tejasv = Labels(path)\n    for label in labels:\n        mfccList = []\n        wavfiles = [path + label + '/' + wavfile for wavfile in os.listdir(path + '/' + label)]\n        for wavfile in wavfiles:\n            mfcc = wav2mfcc(wavfile, maxPad=maxPad)\n            mfccList.append(mfcc)\n        np.save(label + '.npy', mfccList)",
      "execution_count": null,
      "outputs": []
    },
    {
      "metadata": {
        "_cell_guid": "081ea270-a82b-4348-bd56-7fd1668d5ea7",
        "_kg_hide-input": false,
        "_uuid": "0cff3c397ad77cd5ffe59d432e7a893c77ed78f1",
        "_kg_hide-output": true,
        "trusted": false,
        "collapsed": true
      },
      "cell_type": "code",
      "source": "MakeNPArray(path)",
      "execution_count": null,
      "outputs": []
    }
  ],
  "metadata": {
    "language_info": {
      "codemirror_mode": {
        "version": 3,
        "name": "ipython"
      },
      "version": "3.6.3",
      "mimetype": "text/x-python",
      "name": "python",
      "pygments_lexer": "ipython3",
      "file_extension": ".py",
      "nbconvert_exporter": "python"
    },
    "kernelspec": {
      "display_name": "Python 3",
      "language": "python",
      "name": "python3"
    }
  },
  "nbformat": 4,
  "nbformat_minor": 1
}
