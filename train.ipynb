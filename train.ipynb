{
 "cells": [
  {
   "cell_type": "code",
   "execution_count": 26,
   "metadata": {},
   "outputs": [],
   "source": [
    "from preprocess import *\n",
    "import keras\n",
    "import numpy as np\n",
    "from sklearn.model_selection import train_test_split\n",
    "import librosa\n",
    "from keras.models import Sequential\n",
    "from keras.layers import Dense, Dropout, Flatten, Conv2D, MaxPooling2D\n",
    "from keras.utils import to_categorical\n",
    "path = \"./audio/\""
   ]
  },
  {
   "cell_type": "code",
   "execution_count": 27,
   "metadata": {},
   "outputs": [],
   "source": [
    "def Labels(path):\n",
    "    label = os.listdir(path)\n",
    "    labelIndex = np.arange(0, len(label))\n",
    "    #print label, labelIndex\n",
    "    return label , labelIndex"
   ]
  },
  {
   "cell_type": "code",
   "execution_count": 28,
   "metadata": {},
   "outputs": [],
   "source": [
    "def splitData():\n",
    "    labels, indices= Labels(path)\n",
    "    X = np.load(labels[0] + '.npy')\n",
    "    y = np.zeros(X.shape[0])\n",
    "    for i, label in enumerate(labels[1:]):\n",
    "        x = np.load(label + '.npy')\n",
    "        X = np.vstack((X, x))\n",
    "        y = np.append(y, np.full(x.shape[0], fill_value= (i + 1)))\n",
    "    assert X.shape[0] == len(y)\n",
    "    return train_test_split(X, y, test_size= .2, random_state=42, shuffle=True)\n",
    "\n",
    "    #print x\n",
    "    #print y\n",
    "#splitData()"
   ]
  },
  {
   "cell_type": "code",
   "execution_count": 32,
   "metadata": {},
   "outputs": [
    {
     "name": "stdout",
     "output_type": "stream",
     "text": [
      "(51776, 20, 44)\n",
      "(51776, 20, 44, 1)\n",
      "Train on 51776 samples, validate on 12945 samples\n",
      "Epoch 1/10\n",
      "51776/51776 [==============================] - 58s - loss: 5.2395 - acc: 0.0876 - val_loss: 2.6536 - val_acc: 0.2674\n",
      "Epoch 2/10\n",
      "51776/51776 [==============================] - 52s - loss: 2.5812 - acc: 0.2558 - val_loss: 2.0270 - val_acc: 0.4739\n",
      "Epoch 3/10\n",
      "51776/51776 [==============================] - 56s - loss: 2.1626 - acc: 0.3743 - val_loss: 1.5675 - val_acc: 0.5898\n",
      "Epoch 4/10\n",
      "51776/51776 [==============================] - 59s - loss: 1.8751 - acc: 0.4519 - val_loss: 1.3232 - val_acc: 0.6548\n",
      "Epoch 5/10\n",
      "51776/51776 [==============================] - 57s - loss: 1.6898 - acc: 0.5055 - val_loss: 1.1964 - val_acc: 0.6942\n",
      "Epoch 6/10\n",
      "51776/51776 [==============================] - 59s - loss: 1.5725 - acc: 0.5396 - val_loss: 1.0484 - val_acc: 0.7258\n",
      "Epoch 7/10\n",
      "51776/51776 [==============================] - 62s - loss: 1.4869 - acc: 0.5614 - val_loss: 0.9979 - val_acc: 0.7320\n",
      "Epoch 8/10\n",
      "51776/51776 [==============================] - 57s - loss: 1.4285 - acc: 0.5787 - val_loss: 0.9434 - val_acc: 0.7404\n",
      "Epoch 9/10\n",
      "51776/51776 [==============================] - 56s - loss: 1.3726 - acc: 0.5973 - val_loss: 0.8764 - val_acc: 0.7685\n",
      "Epoch 10/10\n",
      "51776/51776 [==============================] - 55s - loss: 1.3296 - acc: 0.6071 - val_loss: 0.9424 - val_acc: 0.7551\n"
     ]
    }
   ],
   "source": [
    "X_train, X_test, y_train, y_test = splitData()\n",
    "print X_train.shape\n",
    "X_train = X_train.reshape(X_train.shape[0], 20, 44, 1)\n",
    "\n",
    "X_test = X_test.reshape(X_test.shape[0], 20, 44, 1)\n",
    "\n",
    "y_train_hot = to_categorical(y_train)\n",
    "y_test_hot = to_categorical(y_test)\n",
    "print(X_train.shape)\n",
    "\n",
    "model = Sequential()\n",
    "model.add(Conv2D(32, kernel_size=(2, 2), activation='relu', input_shape=(20, 44, 1)))\n",
    "model.add(MaxPooling2D(pool_size=(2, 2)))\n",
    "model.add(Dropout(0.25))\n",
    "model.add(Conv2D(32, kernel_size=(2, 2), activation='relu', input_shape=(20, 44, 1)))\n",
    "model.add(MaxPooling2D(pool_size=(2, 2)))\n",
    "model.add(Dropout(0.35))\n",
    "model.add(Flatten())\n",
    "model.add(Dense(128, activation='relu'))\n",
    "model.add(Dropout(0.35))\n",
    "model.add(Dense(30, activation='softmax'))\n",
    "model.compile(loss=keras.losses.categorical_crossentropy,\n",
    "              optimizer=keras.optimizers.RMSprop(),\n",
    "              metrics=['accuracy'])\n",
    "\n",
    "model.fit(X_train, y_train_hot, batch_size=100, epochs=10, verbose=1, validation_data=(X_test, y_test_hot))\n",
    "model.save('tejasv.h5')"
   ]
  },
  {
   "cell_type": "code",
   "execution_count": null,
   "metadata": {},
   "outputs": [],
   "source": []
  }
 ],
 "metadata": {
  "kernelspec": {
   "display_name": "Python 2",
   "language": "python",
   "name": "python2"
  },
  "language_info": {
   "codemirror_mode": {
    "name": "ipython",
    "version": 2
   },
   "file_extension": ".py",
   "mimetype": "text/x-python",
   "name": "python",
   "nbconvert_exporter": "python",
   "pygments_lexer": "ipython2",
   "version": "2.7.12"
  }
 },
 "nbformat": 4,
 "nbformat_minor": 2
}
